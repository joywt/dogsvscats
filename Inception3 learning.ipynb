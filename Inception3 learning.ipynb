{
 "cells": [
  {
   "cell_type": "code",
   "execution_count": 1,
   "metadata": {},
   "outputs": [
    {
     "name": "stderr",
     "output_type": "stream",
     "text": [
      "100%|██████████| 12500/12500 [00:51<00:00, 242.82it/s]\n"
     ]
    }
   ],
   "source": [
    "import numpy as np\n",
    "from tqdm import tqdm\n",
    "import cv2\n",
    "\n",
    "n = 25000\n",
    "img_width = 299\n",
    "img_height = 299\n",
    "\n",
    "X = np.zeros((n,img_width,img_height,3),dtype=np.uint8)\n",
    "y = np.zeros((n,1),dtype = np.uint8)\n",
    "\n",
    "for i in tqdm(range(n//2)):\n",
    "    X[i] = cv2.resize(cv2.imread('train/cat.%d.jpg' %i),(img_width,img_height))\n",
    "    X[i+n//2] = cv2.resize(cv2.imread('train/dog.%d.jpg' %i),(img_width,img_height))\n",
    "\n",
    "y[n//2:] = 1"
   ]
  },
  {
   "cell_type": "code",
   "execution_count": 2,
   "metadata": {
    "collapsed": true
   },
   "outputs": [],
   "source": [
    "from sklearn.model_selection import train_test_split\n",
    "X_train, X_valid, y_train, y_valid = train_test_split(X, y, test_size = 0.2)"
   ]
  },
  {
   "cell_type": "code",
   "execution_count": 3,
   "metadata": {},
   "outputs": [
    {
     "name": "stderr",
     "output_type": "stream",
     "text": [
      "Using TensorFlow backend.\n"
     ]
    }
   ],
   "source": [
    "from keras.models import *\n",
    "from keras.applications import *\n",
    "from keras.layers import *\n",
    "from keras.preprocessing import *"
   ]
  },
  {
   "cell_type": "code",
   "execution_count": 4,
   "metadata": {
    "collapsed": true
   },
   "outputs": [],
   "source": [
    "base_model = InceptionV3(input_tensor=Input((img_width,img_height,3)),weights='imagenet',include_top=False,pooling='avg')"
   ]
  },
  {
   "cell_type": "code",
   "execution_count": 5,
   "metadata": {
    "collapsed": true
   },
   "outputs": [],
   "source": [
    "# len(base_model.layers) - 1\n",
    "NB_LAYER_FREEZE = len(base_model.layers) - 1\n",
    "for layer in base_model.layers[:NB_LAYER_FREEZE]:\n",
    "    layer.trainable = False\n",
    "for layer in base_model.layers[NB_LAYER_FREEZE:]:\n",
    "    layer.trainable = True\n",
    "    \n",
    "x = Dropout(0.25)(base_model.output)\n",
    "x = Dense(1, activation='sigmoid')(x)\n",
    "model = Model(base_model.input, x)"
   ]
  },
  {
   "cell_type": "code",
   "execution_count": 6,
   "metadata": {
    "collapsed": true
   },
   "outputs": [],
   "source": [
    "model.compile(optimizer='adadelta',\n",
    "              loss='binary_crossentropy',\n",
    "              metrics=['accuracy'])"
   ]
  },
  {
   "cell_type": "code",
   "execution_count": 7,
   "metadata": {},
   "outputs": [
    {
     "name": "stdout",
     "output_type": "stream",
     "text": [
      "Train on 20000 samples, validate on 5000 samples\n",
      "Epoch 1/10\n",
      "20000/20000 [==============================] - 133s - loss: 0.2130 - acc: 0.9294 - val_loss: 0.1109 - val_acc: 0.9666\n",
      "Epoch 2/10\n",
      "20000/20000 [==============================] - 133s - loss: 0.1380 - acc: 0.9496 - val_loss: 0.0912 - val_acc: 0.9702\n",
      "Epoch 3/10\n",
      "20000/20000 [==============================] - 133s - loss: 0.1238 - acc: 0.9540 - val_loss: 0.0821 - val_acc: 0.9736\n",
      "Epoch 4/10\n",
      "20000/20000 [==============================] - 132s - loss: 0.1192 - acc: 0.9547 - val_loss: 0.0793 - val_acc: 0.9712\n",
      "Epoch 5/10\n",
      "20000/20000 [==============================] - 132s - loss: 0.1211 - acc: 0.9535 - val_loss: 0.0761 - val_acc: 0.9726\n",
      "Epoch 6/10\n",
      "20000/20000 [==============================] - 132s - loss: 0.1165 - acc: 0.9559 - val_loss: 0.0709 - val_acc: 0.9752\n",
      "Epoch 7/10\n",
      "20000/20000 [==============================] - 132s - loss: 0.1127 - acc: 0.9564 - val_loss: 0.0746 - val_acc: 0.9722\n",
      "Epoch 8/10\n",
      "20000/20000 [==============================] - 133s - loss: 0.1108 - acc: 0.9570 - val_loss: 0.0701 - val_acc: 0.9772\n",
      "Epoch 9/10\n",
      "20000/20000 [==============================] - 134s - loss: 0.1155 - acc: 0.9550 - val_loss: 0.0723 - val_acc: 0.9742\n",
      "Epoch 10/10\n",
      "20000/20000 [==============================] - 134s - loss: 0.1046 - acc: 0.9582 - val_loss: 0.0692 - val_acc: 0.9748\n"
     ]
    },
    {
     "data": {
      "text/plain": [
       "<keras.callbacks.History at 0x7f3973737fd0>"
      ]
     },
     "execution_count": 7,
     "metadata": {},
     "output_type": "execute_result"
    }
   ],
   "source": [
    "model.fit(X_train,y_train, batch_size=16, epochs=10, validation_data=(X_valid,y_valid))"
   ]
  },
  {
   "cell_type": "code",
   "execution_count": 8,
   "metadata": {
    "collapsed": true
   },
   "outputs": [],
   "source": [
    "model.save('models/inception3_fine_tune.h5')"
   ]
  },
  {
   "cell_type": "code",
   "execution_count": null,
   "metadata": {
    "collapsed": true
   },
   "outputs": [],
   "source": []
  }
 ],
 "metadata": {
  "kernelspec": {
   "display_name": "Python 3",
   "language": "python",
   "name": "python3"
  },
  "language_info": {
   "codemirror_mode": {
    "name": "ipython",
    "version": 3
   },
   "file_extension": ".py",
   "mimetype": "text/x-python",
   "name": "python",
   "nbconvert_exporter": "python",
   "pygments_lexer": "ipython3",
   "version": "3.5.3"
  }
 },
 "nbformat": 4,
 "nbformat_minor": 2
}
