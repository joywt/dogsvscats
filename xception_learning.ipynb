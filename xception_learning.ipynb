{
 "cells": [
  {
   "cell_type": "code",
   "execution_count": 1,
   "metadata": {},
   "outputs": [
    {
     "name": "stderr",
     "output_type": "stream",
     "text": [
      "100%|██████████| 12500/12500 [00:51<00:00, 240.39it/s]\n"
     ]
    }
   ],
   "source": [
    "import numpy as np\n",
    "from tqdm import tqdm\n",
    "import cv2\n",
    "\n",
    "n = 25000\n",
    "img_width = 299\n",
    "img_height = 299\n",
    "\n",
    "X = np.zeros((n,img_width,img_height,3),dtype=np.uint8)\n",
    "y = np.zeros((n,1),dtype = np.uint8)\n",
    "\n",
    "for i in tqdm(range(n//2)):\n",
    "    X[i] = cv2.resize(cv2.imread('train/cat.%d.jpg' %i),(img_width,img_height))\n",
    "    X[i+n//2] = cv2.resize(cv2.imread('train/dog.%d.jpg' %i),(img_width,img_height))\n",
    "\n",
    "y[n//2:] = 1"
   ]
  },
  {
   "cell_type": "code",
   "execution_count": 2,
   "metadata": {
    "collapsed": true
   },
   "outputs": [],
   "source": [
    "from sklearn.model_selection import train_test_split\n",
    "X_train, X_valid, y_train, y_valid = train_test_split(X, y, test_size = 0.2)"
   ]
  },
  {
   "cell_type": "code",
   "execution_count": 3,
   "metadata": {},
   "outputs": [
    {
     "name": "stderr",
     "output_type": "stream",
     "text": [
      "Using TensorFlow backend.\n"
     ]
    }
   ],
   "source": [
    "from keras.models import *\n",
    "from keras.applications import *\n",
    "from keras.layers import *\n",
    "from keras.preprocessing import *"
   ]
  },
  {
   "cell_type": "code",
   "execution_count": 4,
   "metadata": {
    "collapsed": true
   },
   "outputs": [],
   "source": [
    "base_model = Xception(input_tensor=Input((img_width,img_height,3)),weights='imagenet',include_top=False,pooling='avg')"
   ]
  },
  {
   "cell_type": "code",
   "execution_count": 5,
   "metadata": {
    "collapsed": true
   },
   "outputs": [],
   "source": [
    "NB_LAYER_FREEZE = len(base_model.layers) - 1\n",
    "for layer in base_model.layers[:NB_LAYER_FREEZE]:\n",
    "    layer.trainable = False\n",
    "for layer in base_model.layers[NB_LAYER_FREEZE:]:\n",
    "    layer.trainable = True\n",
    "    \n",
    "x = Dropout(0.25)(base_model.output)\n",
    "x = Dense(1, activation='sigmoid')(x)\n",
    "model = Model(base_model.input, x)\n",
    "model.compile(optimizer='adadelta',\n",
    "              loss='binary_crossentropy',\n",
    "              metrics=['accuracy'])"
   ]
  },
  {
   "cell_type": "code",
   "execution_count": 7,
   "metadata": {},
   "outputs": [
    {
     "name": "stdout",
     "output_type": "stream",
     "text": [
      "Train on 20000 samples, validate on 5000 samples\n",
      "Epoch 1/5\n",
      "20000/20000 [==============================] - 203s - loss: 0.0675 - acc: 0.9750 - val_loss: 0.0357 - val_acc: 0.9876\n",
      "Epoch 2/5\n",
      "20000/20000 [==============================] - 204s - loss: 0.0608 - acc: 0.9785 - val_loss: 0.0360 - val_acc: 0.9878\n",
      "Epoch 3/5\n",
      "20000/20000 [==============================] - 203s - loss: 0.0634 - acc: 0.9775 - val_loss: 0.0356 - val_acc: 0.9872\n",
      "Epoch 4/5\n",
      "20000/20000 [==============================] - 204s - loss: 0.0598 - acc: 0.9789 - val_loss: 0.0349 - val_acc: 0.9878\n",
      "Epoch 5/5\n",
      "20000/20000 [==============================] - 204s - loss: 0.0618 - acc: 0.9784 - val_loss: 0.0349 - val_acc: 0.9876\n"
     ]
    },
    {
     "data": {
      "text/plain": [
       "<keras.callbacks.History at 0x7f7ef83c5dd8>"
      ]
     },
     "execution_count": 7,
     "metadata": {},
     "output_type": "execute_result"
    }
   ],
   "source": [
    "model.fit(X_train,y_train, batch_size=16, epochs=5, validation_data=(X_valid,y_valid))"
   ]
  },
  {
   "cell_type": "code",
   "execution_count": 8,
   "metadata": {
    "collapsed": true
   },
   "outputs": [],
   "source": [
    "model.save(\"models/xception_ft_model.h5\")"
   ]
  },
  {
   "cell_type": "code",
   "execution_count": null,
   "metadata": {
    "collapsed": true
   },
   "outputs": [],
   "source": []
  }
 ],
 "metadata": {
  "kernelspec": {
   "display_name": "Python 3",
   "language": "python",
   "name": "python3"
  },
  "language_info": {
   "codemirror_mode": {
    "name": "ipython",
    "version": 3
   },
   "file_extension": ".py",
   "mimetype": "text/x-python",
   "name": "python",
   "nbconvert_exporter": "python",
   "pygments_lexer": "ipython3",
   "version": "3.5.3"
  }
 },
 "nbformat": 4,
 "nbformat_minor": 2
}
